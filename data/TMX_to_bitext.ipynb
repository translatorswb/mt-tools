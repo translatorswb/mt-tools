{
 "cells": [
  {
   "cell_type": "code",
   "execution_count": 104,
   "id": "610c5749",
   "metadata": {},
   "outputs": [],
   "source": [
    "from bs4 import BeautifulSoup\n",
    "import re\n",
    "import os"
   ]
  },
  {
   "cell_type": "code",
   "execution_count": 110,
   "id": "2000b991",
   "metadata": {},
   "outputs": [],
   "source": [
    "#input_path = \"/Users/alp/Documents/TWB/data/Hausa/TWB-TMs/Kato_TM.zip Folder/tmx\"\n",
    "input_path = \"/Users/alp/Documents/TWB/data/Hausa/TWB-TMs/TMX Memsource\"\n",
    "#input_path = '/Users/alp/Documents/TWB/data/Hausa/TWB-TMs/Kato_TM.zip Folder/tmx/13326.tmx'"
   ]
  },
  {
   "cell_type": "code",
   "execution_count": 121,
   "id": "c82e1bdc",
   "metadata": {},
   "outputs": [],
   "source": [
    "src_lang_tags = ['en-US', 'en-GB', 'en-gb']\n",
    "tgt_lang_tags = ['ha-HAU', 'ha-NG', 'ha']"
   ]
  },
  {
   "cell_type": "code",
   "execution_count": 112,
   "id": "85bf9b9a",
   "metadata": {},
   "outputs": [],
   "source": [
    "src_output_path = \"/Users/alp/Documents/TWB/data/Hausa/TWB-TMs/Memsource_TMX.en\"\n",
    "tgt_output_path = \"/Users/alp/Documents/TWB/data/Hausa/TWB-TMs/Memsource_TMX.ha\""
   ]
  },
  {
   "cell_type": "code",
   "execution_count": 115,
   "id": "d9a02349",
   "metadata": {},
   "outputs": [
    {
     "name": "stdout",
     "output_type": "stream",
     "text": [
      "7 files\n"
     ]
    }
   ],
   "source": [
    "if os.path.isdir(input_path):\n",
    "    tmx_paths = [os.path.join(input_path, i) for i in os.listdir(input_path) if i.endswith('.tmx')]\n",
    "elif os.path.splitext(input_path)[1] == '.tmx':\n",
    "    tmx_paths = [input_path]\n",
    "else:\n",
    "    print(\"Input path needs to be a directory or a TMX file\")\n",
    "    \n",
    "print(\"%i files\"%len(tmx_paths))"
   ]
  },
  {
   "cell_type": "code",
   "execution_count": 117,
   "id": "a1ae2bf3",
   "metadata": {},
   "outputs": [],
   "source": [
    "def clean_sent(text):\n",
    "    text = text.replace(\"\\n\", '')\n",
    "    text = text.replace(\"&#10;\", '')\n",
    "    text = text.replace(\"\\r\", '')\n",
    "    text = text.replace(\"\\t\", ' ')\n",
    "    \n",
    "    tag_cleaner = re.compile('<.*?>')\n",
    "    clean_text = re.sub(tag_cleaner, '', text)\n",
    "    return clean_text"
   ]
  },
  {
   "cell_type": "code",
   "execution_count": 118,
   "id": "2e06cb9f",
   "metadata": {},
   "outputs": [],
   "source": [
    "def get_doc_lang_tags(parsed_xml_content, src_lang_tags, tgt_lang_tags):\n",
    "    segments = parsed_xml_content.findAll(\"tuv\")\n",
    "    try:\n",
    "        seg0_tag = segments[0]['xml:lang']\n",
    "        seg1_tag = segments[1]['xml:lang']\n",
    "    except:\n",
    "        return \"\", \"\"\n",
    "    \n",
    "    \n",
    "    if seg0_tag == seg1_tag:\n",
    "        print(\"First two segments have the same language tag\")\n",
    "        return \"\", \"\"\n",
    "\n",
    "    if seg0_tag in src_lang_tags and seg1_tag in tgt_lang_tags:\n",
    "        doc_src_tag = segments[0]['xml:lang']\n",
    "        doc_tgt_tag = segments[1]['xml:lang']\n",
    "        return doc_src_tag, doc_tgt_tag\n",
    "    elif seg1_tag in src_lang_tags and seg0_tag in tgt_lang_tags:\n",
    "        doc_src_tag = segments[1]['xml:lang']\n",
    "        doc_tgt_tag = segments[0]['xml:lang']\n",
    "        return doc_src_tag, doc_tgt_tag\n",
    "    \n",
    "    #Something's wrong\n",
    "    if seg0_tag not in src_lang_tags and seg0_tag not in tgt_lang_tags:\n",
    "        print(\"Unrecognized language tag\", seg0_tag)\n",
    "    if seg1_tag not in src_lang_tags and seg1_tag not in tgt_lang_tags:\n",
    "        print(\"Unrecognized language tag\", seg1_tag)\n",
    "    \n",
    "    return \"\", \"\"\n"
   ]
  },
  {
   "cell_type": "code",
   "execution_count": 122,
   "id": "4682cb2f",
   "metadata": {},
   "outputs": [
    {
     "name": "stdout",
     "output_type": "stream",
     "text": [
      "Processing UNICEF Nigeria IOM ECHO_Working-1478647.tmx\n",
      "\tExtracted 451 segments\n",
      "Processing Save the Children Nigeria IOM_ECHO_Working-1478585.tmx\n",
      "\tExtracted 202 segments\n",
      "Processing Green Concern for Development (GREENCODE) DFID Nigeria_Working-1496258.tmx\n",
      "\tExtracted 4 segments\n",
      "Processing WASH sector Nigeria ECHO_Working-1478664.tmx\n",
      "\tExtracted 291 segments\n",
      "Processing International Rescue Committee (IRC) - Nigeria - DFID_Working-1478518.tmx\n",
      "\tExtracted 335 segments\n",
      "Processing Intersos DFID Nigeria_Working-1488860.tmx\n",
      "\tExtracted 10 segments\n",
      "Processing IOM Nigeria ECHO_IOM_Working-1478498.tmx\n",
      "\tExtracted 1071 segments\n",
      "\n",
      "\n",
      "Processed 7 documents. 2364 segments in total\n"
     ]
    }
   ],
   "source": [
    "src_sents = []\n",
    "tgt_sents = []\n",
    "no_processed_docs = 0\n",
    "\n",
    "for tmx_path in tmx_paths:\n",
    "    print(\"Processing\", os.path.basename(tmx_path))\n",
    "    \n",
    "    doc_src_sents = []\n",
    "    doc_tgt_sents = []\n",
    "    doc_problems = 0\n",
    "    with open(tmx_path) as f:\n",
    "        content = f.read()\n",
    "        \n",
    "        soup = BeautifulSoup(content, features=\"lxml\")\n",
    "        \n",
    "        doc_src_tag, doc_tgt_tag = get_doc_lang_tags(soup, src_lang_tags, tgt_lang_tags)\n",
    "        if not doc_src_tag or not doc_tgt_tag:\n",
    "            print(\"\\tCouldn't get language tags from document\", os.path.basename(tmx_path))\n",
    "            continue\n",
    "\n",
    "        skip_file = False\n",
    "        segments = soup.findAll(\"tu\")\n",
    "        for segment in segments:\n",
    "            try:\n",
    "                src_text = segment.find(\"tuv\", {\"xml:lang\": doc_src_tag}).seg.text\n",
    "                tgt_text = segment.find(\"tuv\", {\"xml:lang\": doc_tgt_tag}).seg.text\n",
    "\n",
    "                doc_src_sents.append(clean_sent(src_text))\n",
    "                doc_tgt_sents.append(clean_sent(tgt_text))\n",
    "            except Exception as e:\n",
    "                print(\"\\tProblem at segment\", segment['tuid'])\n",
    "                doc_problems += 1\n",
    "\n",
    "        if skip_file:\n",
    "            print(\"\\tProblem in file \", tmx_path)\n",
    "            continue\n",
    "\n",
    "        if not len(doc_src_sents) == len(doc_tgt_sents):\n",
    "            print(\"\\t# sentences don't match in file \", tmx_path)\n",
    "            continue\n",
    "            \n",
    "        print(\"\\tExtracted %i segments\"%len(doc_src_sents), end=\"\")\n",
    "        if doc_problems:\n",
    "            print(\"(Found %i problems)\"%doc_problems)\n",
    "        else:\n",
    "            print(\"\")\n",
    "            \n",
    "        src_sents.extend(doc_src_sents)\n",
    "        tgt_sents.extend(doc_tgt_sents)\n",
    "        \n",
    "        no_processed_docs += 1\n",
    "        \n",
    "print(\"\\nProcessed %i documents. %i segments in total\"%(no_processed_docs, len(src_sents)))"
   ]
  },
  {
   "cell_type": "code",
   "execution_count": 120,
   "id": "8b68f2b9",
   "metadata": {},
   "outputs": [],
   "source": [
    "with open(src_output_path, 'w') as f_src, open(tgt_output_path, 'w') as f_tgt:\n",
    "    for s, t in zip(src_sents, tgt_sents):\n",
    "        f_src.write(s + \"\\n\")\n",
    "        f_tgt.write(t + \"\\n\") "
   ]
  },
  {
   "cell_type": "code",
   "execution_count": null,
   "id": "36ed68d9",
   "metadata": {},
   "outputs": [],
   "source": []
  },
  {
   "cell_type": "code",
   "execution_count": null,
   "id": "bfd65d6a",
   "metadata": {},
   "outputs": [],
   "source": []
  }
 ],
 "metadata": {
  "kernelspec": {
   "display_name": "Python 3",
   "language": "python",
   "name": "python3"
  },
  "language_info": {
   "codemirror_mode": {
    "name": "ipython",
    "version": 3
   },
   "file_extension": ".py",
   "mimetype": "text/x-python",
   "name": "python",
   "nbconvert_exporter": "python",
   "pygments_lexer": "ipython3",
   "version": "3.7.10"
  }
 },
 "nbformat": 4,
 "nbformat_minor": 5
}
